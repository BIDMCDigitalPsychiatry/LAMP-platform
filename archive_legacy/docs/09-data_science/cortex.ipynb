{
 "cells": [
  {
   "cell_type": "markdown",
   "id": "a070b585",
   "metadata": {},
   "source": [
    "# Cortex Case Example: Anomaly Detection\n",
    "It's easy to get started with analysis on data collected from mindLAMP. In this example, we'll walk through using [Cortex](https://docs.lamp.digital/cortex) with [Luminol](https://github.com/linkedin/luminol), an anomaly detection library, and [Altair](https://altair-viz.github.io), an interactive visualization library, to tag and visualize survey scores for a particular patient."
   ]
  },
  {
   "cell_type": "code",
   "execution_count": 1,
   "id": "ffa1108a",
   "metadata": {},
   "outputs": [
    {
     "name": "stdout",
     "output_type": "stream",
     "text": [
     ]
    }
   ],
   "source": [
    "import cortex\n",
    "import luminol\n",
    "import pandas as pd\n",
    "import numpy as np\n",
    "import altair as alt\n",
    "from luminol.anomaly_detector import AnomalyDetector"
   ]
  },
  {
   "cell_type": "markdown",
   "id": "8b6676e8",
   "metadata": {},
   "source": [
    "## Preparing the data using Cortex\n",
    "First, call `cortex.run(...)` with your Participant ID of interest. Then, we'll need to rearrange the resultant data frame by setting the index to the `timestamp` and adding an `anomaly` column for later."
   ]
  },
  {
   "cell_type": "code",
   "execution_count": 2,
   "id": "edc2f94c",
   "metadata": {},
   "outputs": [
    {
     "name": "stderr",
     "output_type": "stream",
     "text": [
      "[INFO:feature_types:_wrapper2] Processing primary feature \"cortex.survey_scores\"...\n",
      "[INFO:feature_types:_wrapper2] Cortex caching directory set to: /home/_data/cortex_cache\n",
      "[INFO:feature_types:_wrapper2] Processing raw feature \"lamp.survey\"...\n",
      "[INFO:feature_types:_wrapper2] No saved raw data found, getting new...\n",
      "[INFO:feature_types:_wrapper2] Saving raw data as \"/home/_data/cortex_cache/survey_U1089294357_0_1621449536000.cortex\"...\n"
     ]
    }
   ],
   "source": [
    "df = cortex.run(\n",
    "    'U1089294357', ['survey_scores'], \n",
    "    start=0, end=cortex.now()\n",
    ")['survey_scores']\n",
    "df.index = df.timestamp.astype(int) // 10**3\n",
    "df['anomaly'] = 0 # default to no anomaly"
   ]
  },
  {
   "cell_type": "markdown",
   "id": "e9a12e9e",
   "metadata": {},
   "source": [
    "In addition to the survey `score` column, we also have a `category` column that's derived from custom survey grouping. The Cortex feature `survey_scores` automatically scores each question for you, whether it's a Likert scale, list of options, True/False, and so on. Then, it groups together questions from a single survey, such as \"Weekly Survey\" by predefined categories, like \"Mood\" and \"Anxiety\" to better understand symptom domains."
   ]
  },
  {
   "cell_type": "code",
   "execution_count": 3,
   "id": "21dfeeaf",
   "metadata": {},
   "outputs": [
    {
     "data": {
      "text/html": [
       "<div>\n",
       "<style scoped>\n",
       "    .dataframe tbody tr th:only-of-type {\n",
       "        vertical-align: middle;\n",
       "    }\n",
       "\n",
       "    .dataframe tbody tr th {\n",
       "        vertical-align: top;\n",
       "    }\n",
       "\n",
       "    .dataframe thead th {\n",
       "        text-align: right;\n",
       "    }\n",
       "</style>\n",
       "<table border=\"1\" class=\"dataframe\">\n",
       "  <thead>\n",
       "    <tr style=\"text-align: right;\">\n",
       "      <th></th>\n",
       "      <th>id</th>\n",
       "      <th>category</th>\n",
       "      <th>timestamp</th>\n",
       "      <th>score</th>\n",
       "      <th>anomaly</th>\n",
       "    </tr>\n",
       "    <tr>\n",
       "      <th>timestamp</th>\n",
       "      <th></th>\n",
       "      <th></th>\n",
       "      <th></th>\n",
       "      <th></th>\n",
       "      <th></th>\n",
       "    </tr>\n",
       "  </thead>\n",
       "  <tbody>\n",
       "    <tr>\n",
       "      <th>1546087152000000</th>\n",
       "      <td>U1089294357</td>\n",
       "      <td>Sleep and Social</td>\n",
       "      <td>2018-12-29 12:39:12</td>\n",
       "      <td>2.000000</td>\n",
       "      <td>0</td>\n",
       "    </tr>\n",
       "    <tr>\n",
       "      <th>1545836461000000</th>\n",
       "      <td>U1089294357</td>\n",
       "      <td>Sleep and Social</td>\n",
       "      <td>2018-12-26 15:01:01</td>\n",
       "      <td>1.500000</td>\n",
       "      <td>0</td>\n",
       "    </tr>\n",
       "    <tr>\n",
       "      <th>1545696447000000</th>\n",
       "      <td>U1089294357</td>\n",
       "      <td>Sleep and Social</td>\n",
       "      <td>2018-12-25 00:07:27</td>\n",
       "      <td>1.600000</td>\n",
       "      <td>0</td>\n",
       "    </tr>\n",
       "    <tr>\n",
       "      <th>1545449535000000</th>\n",
       "      <td>U1089294357</td>\n",
       "      <td>Sleep and Social</td>\n",
       "      <td>2018-12-22 03:32:15</td>\n",
       "      <td>1.400000</td>\n",
       "      <td>0</td>\n",
       "    </tr>\n",
       "    <tr>\n",
       "      <th>1545262330000000</th>\n",
       "      <td>U1089294357</td>\n",
       "      <td>Sleep and Social</td>\n",
       "      <td>2018-12-19 23:32:10</td>\n",
       "      <td>1.333333</td>\n",
       "      <td>0</td>\n",
       "    </tr>\n",
       "    <tr>\n",
       "      <th>...</th>\n",
       "      <td>...</td>\n",
       "      <td>...</td>\n",
       "      <td>...</td>\n",
       "      <td>...</td>\n",
       "      <td>...</td>\n",
       "    </tr>\n",
       "    <tr>\n",
       "      <th>1535656477000000</th>\n",
       "      <td>U1089294357</td>\n",
       "      <td>Psychosis and Social</td>\n",
       "      <td>2018-08-30 19:14:37</td>\n",
       "      <td>1.000000</td>\n",
       "      <td>0</td>\n",
       "    </tr>\n",
       "    <tr>\n",
       "      <th>1535480282000000</th>\n",
       "      <td>U1089294357</td>\n",
       "      <td>Psychosis and Social</td>\n",
       "      <td>2018-08-28 18:18:02</td>\n",
       "      <td>1.000000</td>\n",
       "      <td>0</td>\n",
       "    </tr>\n",
       "    <tr>\n",
       "      <th>1535480042000000</th>\n",
       "      <td>U1089294357</td>\n",
       "      <td>Psychosis and Social</td>\n",
       "      <td>2018-08-28 18:14:02</td>\n",
       "      <td>1.250000</td>\n",
       "      <td>0</td>\n",
       "    </tr>\n",
       "    <tr>\n",
       "      <th>1535479779000000</th>\n",
       "      <td>U1089294357</td>\n",
       "      <td>Psychosis and Social</td>\n",
       "      <td>2018-08-28 18:09:39</td>\n",
       "      <td>2.000000</td>\n",
       "      <td>0</td>\n",
       "    </tr>\n",
       "    <tr>\n",
       "      <th>1535478102000000</th>\n",
       "      <td>U1089294357</td>\n",
       "      <td>Psychosis and Social</td>\n",
       "      <td>2018-08-28 17:41:42</td>\n",
       "      <td>1.000000</td>\n",
       "      <td>0</td>\n",
       "    </tr>\n",
       "  </tbody>\n",
       "</table>\n",
       "<p>147 rows × 5 columns</p>\n",
       "</div>"
      ],
      "text/plain": [
       "                           id              category           timestamp  \\\n",
       "timestamp                                                                 \n",
       "1546087152000000  U1089294357      Sleep and Social 2018-12-29 12:39:12   \n",
       "1545836461000000  U1089294357      Sleep and Social 2018-12-26 15:01:01   \n",
       "1545696447000000  U1089294357      Sleep and Social 2018-12-25 00:07:27   \n",
       "1545449535000000  U1089294357      Sleep and Social 2018-12-22 03:32:15   \n",
       "1545262330000000  U1089294357      Sleep and Social 2018-12-19 23:32:10   \n",
       "...                       ...                   ...                 ...   \n",
       "1535656477000000  U1089294357  Psychosis and Social 2018-08-30 19:14:37   \n",
       "1535480282000000  U1089294357  Psychosis and Social 2018-08-28 18:18:02   \n",
       "1535480042000000  U1089294357  Psychosis and Social 2018-08-28 18:14:02   \n",
       "1535479779000000  U1089294357  Psychosis and Social 2018-08-28 18:09:39   \n",
       "1535478102000000  U1089294357  Psychosis and Social 2018-08-28 17:41:42   \n",
       "\n",
       "                     score  anomaly  \n",
       "timestamp                            \n",
       "1546087152000000  2.000000        0  \n",
       "1545836461000000  1.500000        0  \n",
       "1545696447000000  1.600000        0  \n",
       "1545449535000000  1.400000        0  \n",
       "1545262330000000  1.333333        0  \n",
       "...                    ...      ...  \n",
       "1535656477000000  1.000000        0  \n",
       "1535480282000000  1.000000        0  \n",
       "1535480042000000  1.250000        0  \n",
       "1535479779000000  2.000000        0  \n",
       "1535478102000000  1.000000        0  \n",
       "\n",
       "[147 rows x 5 columns]"
      ]
     },
     "execution_count": 4,
     "metadata": {},
     "output_type": "execute_result"
    }
   ],
   "source": [
    "df"
   ]
  },
  {
   "cell_type": "markdown",
   "id": "3d5a475f",
   "metadata": {},
   "source": [
    "## Detecting anomalies using Luminol\n",
    "Now, we feed the Luminol detector our `score` column. It then processes the data and returns anomalous time windows tagged with an anomaly score. We'll tag the actual survey scores in our DataFrame that lie within these windows with their respective anomaly score. We need to iterate over each category and tag anomalies within the category independent of survey scores from other categories."
   ]
  },
  {
   "cell_type": "code",
   "execution_count": 5,
   "id": "375065e0",
   "metadata": {},
   "outputs": [],
   "source": [
    "for cat in df.category.unique():\n",
    "    sub_df = df.loc[df.category == cat, 'score'].fillna(0).to_dict()\n",
    "    detector = AnomalyDetector(sub_df, score_threshold=1.5)\n",
    "    for a in detector.get_anomalies():\n",
    "        ts = (df.index >= a.start_timestamp) & (df.index <= a.end_timestamp)\n",
    "        df.loc[ts & (df.category == cat), 'anomaly'] = a.anomaly_score"
   ]
  },
  {
   "cell_type": "markdown",
   "id": "e87b402c",
   "metadata": {},
   "source": [
    "## Visualizing the anomalies using Altair\n",
    "We'll use the Altair interactive plotting library to break question categories out into their own sub-charts. We'll also bring extra attention to anomalous survey score data points by increasing their size and changing their color."
   ]
  },
  {
   "cell_type": "code",
   "execution_count": 6,
   "id": "215f3611",
   "metadata": {},
   "outputs": [
    {
     "data": {
      "text/html": [
       "\n",
       "<div id=\"altair-viz-4afd49fc7e684c6aa0bb69cb96173ba5\"></div>\n",
       "<script type=\"text/javascript\">\n",
       "  (function(spec, embedOpt){\n",
       "    let outputDiv = document.currentScript.previousElementSibling;\n",
       "    if (outputDiv.id !== \"altair-viz-4afd49fc7e684c6aa0bb69cb96173ba5\") {\n",
       "      outputDiv = document.getElementById(\"altair-viz-4afd49fc7e684c6aa0bb69cb96173ba5\");\n",
       "    }\n",
       "    const paths = {\n",
       "      \"vega\": \"https://cdn.jsdelivr.net/npm//vega@5?noext\",\n",
       "      \"vega-lib\": \"https://cdn.jsdelivr.net/npm//vega-lib?noext\",\n",
       "      \"vega-lite\": \"https://cdn.jsdelivr.net/npm//vega-lite@4.8.1?noext\",\n",
       "      \"vega-embed\": \"https://cdn.jsdelivr.net/npm//vega-embed@6?noext\",\n",
       "    };\n",
       "\n",
       "    function loadScript(lib) {\n",
       "      return new Promise(function(resolve, reject) {\n",
       "        var s = document.createElement('script');\n",
       "        s.src = paths[lib];\n",
       "        s.async = true;\n",
       "        s.onload = () => resolve(paths[lib]);\n",
       "        s.onerror = () => reject(`Error loading script: ${paths[lib]}`);\n",
       "        document.getElementsByTagName(\"head\")[0].appendChild(s);\n",
       "      });\n",
       "    }\n",
       "\n",
       "    function showError(err) {\n",
       "      outputDiv.innerHTML = `<div class=\"error\" style=\"color:red;\">${err}</div>`;\n",
       "      throw err;\n",
       "    }\n",
       "\n",
       "    function displayChart(vegaEmbed) {\n",
       "      vegaEmbed(outputDiv, spec, embedOpt)\n",
       "        .catch(err => showError(`Javascript Error: ${err.message}<br>This usually means there's a typo in your chart specification. See the javascript console for the full traceback.`));\n",
       "    }\n",
       "\n",
       "    if(typeof define === \"function\" && define.amd) {\n",
       "      requirejs.config({paths});\n",
       "      require([\"vega-embed\"], displayChart, err => showError(`Error loading script: ${err.message}`));\n",
       "    } else if (typeof vegaEmbed === \"function\") {\n",
       "      displayChart(vegaEmbed);\n",
       "    } else {\n",
       "      loadScript(\"vega\")\n",
       "        .then(() => loadScript(\"vega-lite\"))\n",
       "        .then(() => loadScript(\"vega-embed\"))\n",
       "        .catch(showError)\n",
       "        .then(() => displayChart(vegaEmbed));\n",
       "    }\n",
       "  })({\"config\": {\"view\": {\"continuousWidth\": 400, \"continuousHeight\": 300}}, \"data\": {\"name\": \"data-b524c745ba55d1149bd037f355adbfc3\"}, \"facet\": {\"row\": {\"type\": \"nominal\", \"field\": \"category\"}}, \"spec\": {\"mark\": {\"type\": \"point\", \"filled\": true}, \"encoding\": {\"color\": {\"type\": \"quantitative\", \"field\": \"anomaly\", \"scale\": {\"range\": [\"#29629E\", \"#CA2C21\"], \"type\": \"sqrt\"}, \"title\": \"Severity\"}, \"size\": {\"type\": \"quantitative\", \"field\": \"anomaly\", \"scale\": {\"range\": [25, 500], \"type\": \"sqrt\"}, \"title\": \"Severity\"}, \"x\": {\"type\": \"temporal\", \"field\": \"timestamp\", \"title\": \"Date\"}, \"y\": {\"type\": \"quantitative\", \"field\": \"score\", \"scale\": {\"domain\": [1, 3]}, \"title\": \"Score\"}}, \"height\": 50, \"width\": 500}, \"$schema\": \"https://vega.github.io/schema/vega-lite/v4.8.1.json\", \"datasets\": {\"data-b524c745ba55d1149bd037f355adbfc3\": [{\"id\": \"U1089294357\", \"category\": \"Sleep and Social\", \"timestamp\": \"2018-12-29T12:39:12\", \"score\": 2.0, \"anomaly\": 0.0}, {\"id\": \"U1089294357\", \"category\": \"Sleep and Social\", \"timestamp\": \"2018-12-26T15:01:01\", \"score\": 1.5, \"anomaly\": 0.0}, {\"id\": \"U1089294357\", \"category\": \"Sleep and Social\", \"timestamp\": \"2018-12-25T00:07:27\", \"score\": 1.6, \"anomaly\": 0.0}, {\"id\": \"U1089294357\", \"category\": \"Sleep and Social\", \"timestamp\": \"2018-12-22T03:32:15\", \"score\": 1.4, \"anomaly\": 0.0}, {\"id\": \"U1089294357\", \"category\": \"Sleep and Social\", \"timestamp\": \"2018-12-19T23:32:10\", \"score\": 1.3333333333333333, \"anomaly\": 1.6153252693488411}, {\"id\": \"U1089294357\", \"category\": \"Sleep and Social\", \"timestamp\": \"2018-12-17T16:15:46\", \"score\": 1.3333333333333333, \"anomaly\": 0.0}, {\"id\": \"U1089294357\", \"category\": \"Sleep and Social\", \"timestamp\": \"2018-12-15T00:51:59\", \"score\": 1.8, \"anomaly\": 0.0}, {\"id\": \"U1089294357\", \"category\": \"Sleep and Social\", \"timestamp\": \"2018-12-10T19:40:21\", \"score\": 2.0, \"anomaly\": 0.0}, {\"id\": \"U1089294357\", \"category\": \"Sleep and Social\", \"timestamp\": \"2018-12-06T19:15:28\", \"score\": 1.8, \"anomaly\": 0.0}, {\"id\": \"U1089294357\", \"category\": \"Sleep and Social\", \"timestamp\": \"2018-12-04T22:39:00\", \"score\": 1.6666666666666667, \"anomaly\": 0.0}, {\"id\": \"U1089294357\", \"category\": \"Sleep and Social\", \"timestamp\": \"2018-12-02T22:58:08\", \"score\": 1.2, \"anomaly\": 1.8475942649946944}, {\"id\": \"U1089294357\", \"category\": \"Sleep and Social\", \"timestamp\": \"2018-11-30T05:17:21\", \"score\": 1.6666666666666667, \"anomaly\": 0.0}, {\"id\": \"U1089294357\", \"category\": \"Sleep and Social\", \"timestamp\": \"2018-11-27T00:30:40\", \"score\": 1.8, \"anomaly\": 0.0}, {\"id\": \"U1089294357\", \"category\": \"Sleep and Social\", \"timestamp\": \"2018-11-23T18:13:17\", \"score\": 2.0, \"anomaly\": 0.0}, {\"id\": \"U1089294357\", \"category\": \"Sleep and Social\", \"timestamp\": \"2018-11-21T18:56:23\", \"score\": 1.6666666666666667, \"anomaly\": 2.1254778149559335}, {\"id\": \"U1089294357\", \"category\": \"Sleep and Social\", \"timestamp\": \"2018-11-19T22:59:27\", \"score\": 2.5, \"anomaly\": 2.1254778149559335}, {\"id\": \"U1089294357\", \"category\": \"Sleep and Social\", \"timestamp\": \"2018-11-16T19:40:51\", \"score\": 1.6666666666666667, \"anomaly\": 2.1254778149559335}, {\"id\": \"U1089294357\", \"category\": \"Sleep and Social\", \"timestamp\": \"2018-11-16T00:55:58\", \"score\": 2.0, \"anomaly\": 0.0}, {\"id\": \"U1089294357\", \"category\": \"Sleep and Social\", \"timestamp\": \"2018-11-13T14:53:48\", \"score\": 1.75, \"anomaly\": 0.0}, {\"id\": \"U1089294357\", \"category\": \"Sleep and Social\", \"timestamp\": \"2018-11-12T01:09:08\", \"score\": 2.0, \"anomaly\": 0.0}, {\"id\": \"U1089294357\", \"category\": \"Sleep and Social\", \"timestamp\": \"2018-11-08T13:21:37\", \"score\": 1.8, \"anomaly\": 0.0}, {\"id\": \"U1089294357\", \"category\": \"Sleep and Social\", \"timestamp\": \"2018-11-01T02:18:55\", \"score\": 1.8, \"anomaly\": 0.0}, {\"id\": \"U1089294357\", \"category\": \"Sleep and Social\", \"timestamp\": \"2018-10-30T17:15:27\", \"score\": 1.75, \"anomaly\": 0.0}, {\"id\": \"U1089294357\", \"category\": \"Sleep and Social\", \"timestamp\": \"2018-10-24T17:59:16\", \"score\": 1.5, \"anomaly\": 0.0}, {\"id\": \"U1089294357\", \"category\": \"Sleep and Social\", \"timestamp\": \"2018-10-17T18:20:46\", \"score\": 1.5, \"anomaly\": 0.0}, {\"id\": \"U1089294357\", \"category\": \"Sleep and Social\", \"timestamp\": \"2018-10-15T16:22:56\", \"score\": 1.8, \"anomaly\": 0.0}, {\"id\": \"U1089294357\", \"category\": \"Sleep and Social\", \"timestamp\": \"2018-10-10T21:35:16\", \"score\": 1.6666666666666667, \"anomaly\": 0.0}, {\"id\": \"U1089294357\", \"category\": \"Sleep and Social\", \"timestamp\": \"2018-10-09T13:50:56\", \"score\": 1.5, \"anomaly\": 0.0}, {\"id\": \"U1089294357\", \"category\": \"Sleep and Social\", \"timestamp\": \"2018-10-05T01:13:45\", \"score\": 1.4, \"anomaly\": 0.0}, {\"id\": \"U1089294357\", \"category\": \"Sleep and Social\", \"timestamp\": \"2018-10-01T13:52:03\", \"score\": 1.4, \"anomaly\": 0.0}, {\"id\": \"U1089294357\", \"category\": \"Sleep and Social\", \"timestamp\": \"2018-09-29T00:09:24\", \"score\": 1.4, \"anomaly\": 2.3797447909818072}, {\"id\": \"U1089294357\", \"category\": \"Sleep and Social\", \"timestamp\": \"2018-09-23T20:21:59\", \"score\": 1.3333333333333333, \"anomaly\": 2.3797447909818072}, {\"id\": \"U1089294357\", \"category\": \"Sleep and Social\", \"timestamp\": \"2018-09-19T21:36:44\", \"score\": 2.2, \"anomaly\": 2.3797447909818072}, {\"id\": \"U1089294357\", \"category\": \"Sleep and Social\", \"timestamp\": \"2018-09-15T22:24:56\", \"score\": 1.8, \"anomaly\": 0.0}, {\"id\": \"U1089294357\", \"category\": \"Sleep and Social\", \"timestamp\": \"2018-09-14T11:42:38\", \"score\": 1.5, \"anomaly\": 3.707213599451107}, {\"id\": \"U1089294357\", \"category\": \"Sleep and Social\", \"timestamp\": \"2018-09-13T18:19:43\", \"score\": 1.8333333333333333, \"anomaly\": 0.0}, {\"id\": \"U1089294357\", \"category\": \"Sleep and Social\", \"timestamp\": \"2018-09-11T03:41:54\", \"score\": 1.5, \"anomaly\": 2.767518831873787}, {\"id\": \"U1089294357\", \"category\": \"Sleep and Social\", \"timestamp\": \"2018-09-04T22:13:00\", \"score\": 1.5, \"anomaly\": 2.767518831873787}, {\"id\": \"U1089294357\", \"category\": \"Sleep and Social\", \"timestamp\": \"2018-08-31T11:42:43\", \"score\": 2.0, \"anomaly\": 0.0}, {\"id\": \"U1089294357\", \"category\": \"Sleep and Social\", \"timestamp\": \"2018-08-29T15:41:26\", \"score\": 1.6666666666666667, \"anomaly\": 1.5560066271556299}, {\"id\": \"U1089294357\", \"category\": \"Sleep and Social\", \"timestamp\": \"2018-08-27T14:55:28\", \"score\": 2.2, \"anomaly\": 0.0}, {\"id\": \"U1089294357\", \"category\": \"App Usability\", \"timestamp\": \"2018-12-29T12:38:00\", \"score\": 2.0, \"anomaly\": 0.0}, {\"id\": \"U1089294357\", \"category\": \"App Usability\", \"timestamp\": \"2018-12-25T17:31:57\", \"score\": 1.8, \"anomaly\": 0.0}, {\"id\": \"U1089294357\", \"category\": \"App Usability\", \"timestamp\": \"2018-12-22T03:22:18\", \"score\": 1.9, \"anomaly\": 0.0}, {\"id\": \"U1089294357\", \"category\": \"App Usability\", \"timestamp\": \"2018-12-19T00:54:37\", \"score\": 2.111111111111111, \"anomaly\": 0.0}, {\"id\": \"U1089294357\", \"category\": \"App Usability\", \"timestamp\": \"2018-12-15T00:48:35\", \"score\": 2.111111111111111, \"anomaly\": 0.0}, {\"id\": \"U1089294357\", \"category\": \"App Usability\", \"timestamp\": \"2018-12-06T19:12:34\", \"score\": 1.8, \"anomaly\": 0.0}, {\"id\": \"U1089294357\", \"category\": \"App Usability\", \"timestamp\": \"2018-12-05T02:44:10\", \"score\": 2.2222222222222223, \"anomaly\": 2.695136026245545}, {\"id\": \"U1089294357\", \"category\": \"App Usability\", \"timestamp\": \"2018-11-30T05:18:22\", \"score\": 2.1, \"anomaly\": 2.695136026245545}, {\"id\": \"U1089294357\", \"category\": \"App Usability\", \"timestamp\": \"2018-11-22T17:16:48\", \"score\": 2.1, \"anomaly\": 2.695136026245545}, {\"id\": \"U1089294357\", \"category\": \"App Usability\", \"timestamp\": \"2018-11-20T22:55:13\", \"score\": 2.125, \"anomaly\": 2.695136026245545}, {\"id\": \"U1089294357\", \"category\": \"App Usability\", \"timestamp\": \"2018-11-16T00:57:11\", \"score\": 1.7, \"anomaly\": 0.0}, {\"id\": \"U1089294357\", \"category\": \"App Usability\", \"timestamp\": \"2018-11-13T19:33:56\", \"score\": 1.3, \"anomaly\": 0.0}, {\"id\": \"U1089294357\", \"category\": \"Mood\", \"timestamp\": \"2018-12-29T12:37:14\", \"score\": 1.0, \"anomaly\": 0.0}, {\"id\": \"U1089294357\", \"category\": \"Mood\", \"timestamp\": \"2018-12-25T00:10:01\", \"score\": 1.4285714285714286, \"anomaly\": 1.6773180506404535}, {\"id\": \"U1089294357\", \"category\": \"Mood\", \"timestamp\": \"2018-12-22T03:31:28\", \"score\": 1.0, \"anomaly\": 0.0}, {\"id\": \"U1089294357\", \"category\": \"Mood\", \"timestamp\": \"2018-12-19T23:31:06\", \"score\": 1.0, \"anomaly\": 0.0}, {\"id\": \"U1089294357\", \"category\": \"Mood\", \"timestamp\": \"2018-12-18T02:18:22\", \"score\": 1.0, \"anomaly\": 0.0}, {\"id\": \"U1089294357\", \"category\": \"Mood\", \"timestamp\": \"2018-12-15T00:42:00\", \"score\": 1.2, \"anomaly\": 0.0}, {\"id\": \"U1089294357\", \"category\": \"Mood\", \"timestamp\": \"2018-12-10T21:26:22\", \"score\": 1.0, \"anomaly\": 0.0}, {\"id\": \"U1089294357\", \"category\": \"Mood\", \"timestamp\": \"2018-12-10T19:41:49\", \"score\": 1.0, \"anomaly\": 0.0}, {\"id\": \"U1089294357\", \"category\": \"Mood\", \"timestamp\": \"2018-12-07T02:54:30\", \"score\": 1.0, \"anomaly\": 0.0}, {\"id\": \"U1089294357\", \"category\": \"Mood\", \"timestamp\": \"2018-12-05T02:43:07\", \"score\": 1.0, \"anomaly\": 0.0}, {\"id\": \"U1089294357\", \"category\": \"Mood\", \"timestamp\": \"2018-12-02T22:57:03\", \"score\": 1.2, \"anomaly\": 0.0}, {\"id\": \"U1089294357\", \"category\": \"Mood\", \"timestamp\": \"2018-11-28T22:08:52\", \"score\": 1.0, \"anomaly\": 0.0}, {\"id\": \"U1089294357\", \"category\": \"Mood\", \"timestamp\": \"2018-11-27T00:31:42\", \"score\": 1.0, \"anomaly\": 0.0}, {\"id\": \"U1089294357\", \"category\": \"Mood\", \"timestamp\": \"2018-11-23T21:02:12\", \"score\": 1.0, \"anomaly\": 0.0}, {\"id\": \"U1089294357\", \"category\": \"Mood\", \"timestamp\": \"2018-11-21T21:01:18\", \"score\": 1.0, \"anomaly\": 0.0}, {\"id\": \"U1089294357\", \"category\": \"Mood\", \"timestamp\": \"2018-11-19T22:57:35\", \"score\": 1.0, \"anomaly\": 0.0}, {\"id\": \"U1089294357\", \"category\": \"Mood\", \"timestamp\": \"2018-11-16T00:39:54\", \"score\": 1.0, \"anomaly\": 0.0}, {\"id\": \"U1089294357\", \"category\": \"Mood\", \"timestamp\": \"2018-11-13T14:52:43\", \"score\": 1.0, \"anomaly\": 0.0}, {\"id\": \"U1089294357\", \"category\": \"Mood\", \"timestamp\": \"2018-11-12T01:06:36\", \"score\": 1.0, \"anomaly\": 0.0}, {\"id\": \"U1089294357\", \"category\": \"Mood\", \"timestamp\": \"2018-11-08T13:20:29\", \"score\": 1.0, \"anomaly\": 0.0}, {\"id\": \"U1089294357\", \"category\": \"Mood\", \"timestamp\": \"2018-11-01T02:20:31\", \"score\": 1.0, \"anomaly\": 0.0}, {\"id\": \"U1089294357\", \"category\": \"Mood\", \"timestamp\": \"2018-10-30T17:16:27\", \"score\": 1.0, \"anomaly\": 0.0}, {\"id\": \"U1089294357\", \"category\": \"Mood\", \"timestamp\": \"2018-10-24T18:00:10\", \"score\": 1.0, \"anomaly\": 0.0}, {\"id\": \"U1089294357\", \"category\": \"Mood\", \"timestamp\": \"2018-10-15T16:24:29\", \"score\": 1.375, \"anomaly\": 0.0}, {\"id\": \"U1089294357\", \"category\": \"Mood\", \"timestamp\": \"2018-10-10T21:36:50\", \"score\": 1.375, \"anomaly\": 0.0}, {\"id\": \"U1089294357\", \"category\": \"Mood\", \"timestamp\": \"2018-10-09T13:49:06\", \"score\": 1.0, \"anomaly\": 0.0}, {\"id\": \"U1089294357\", \"category\": \"Mood\", \"timestamp\": \"2018-10-05T01:10:54\", \"score\": 1.2, \"anomaly\": 0.0}, {\"id\": \"U1089294357\", \"category\": \"Mood\", \"timestamp\": \"2018-10-01T13:53:47\", \"score\": 1.375, \"anomaly\": 0.0}, {\"id\": \"U1089294357\", \"category\": \"Mood\", \"timestamp\": \"2018-09-28T23:09:31\", \"score\": 1.1666666666666667, \"anomaly\": 0.0}, {\"id\": \"U1089294357\", \"category\": \"Mood\", \"timestamp\": \"2018-09-23T20:20:57\", \"score\": 1.4285714285714286, \"anomaly\": 0.0}, {\"id\": \"U1089294357\", \"category\": \"Mood\", \"timestamp\": \"2018-09-19T21:35:10\", \"score\": 1.1428571428571428, \"anomaly\": 0.0}, {\"id\": \"U1089294357\", \"category\": \"Mood\", \"timestamp\": \"2018-09-15T22:26:07\", \"score\": 1.0, \"anomaly\": 1.5531171690324628}, {\"id\": \"U1089294357\", \"category\": \"Mood\", \"timestamp\": \"2018-09-14T11:41:21\", \"score\": 1.375, \"anomaly\": 0.0}, {\"id\": \"U1089294357\", \"category\": \"Mood\", \"timestamp\": \"2018-09-13T18:18:39\", \"score\": 1.375, \"anomaly\": 0.0}, {\"id\": \"U1089294357\", \"category\": \"Mood\", \"timestamp\": \"2018-09-11T03:43:45\", \"score\": 1.375, \"anomaly\": 0.0}, {\"id\": \"U1089294357\", \"category\": \"Mood\", \"timestamp\": \"2018-09-04T22:11:51\", \"score\": 1.5714285714285714, \"anomaly\": 3.9721128349751043}, {\"id\": \"U1089294357\", \"category\": \"Mood\", \"timestamp\": \"2018-08-29T22:09:24\", \"score\": 1.0, \"anomaly\": 3.9721128349751043}, {\"id\": \"U1089294357\", \"category\": \"Mood\", \"timestamp\": \"2018-08-28T18:10:36\", \"score\": 1.25, \"anomaly\": 3.9721128349751043}, {\"id\": \"U1089294357\", \"category\": \"Mood\", \"timestamp\": \"2018-08-28T17:48:34\", \"score\": 1.625, \"anomaly\": 0.0}, {\"id\": \"U1089294357\", \"category\": \"Mood\", \"timestamp\": \"2018-08-28T17:43:34\", \"score\": 1.375, \"anomaly\": 0.0}, {\"id\": \"U1089294357\", \"category\": \"Anxiety\", \"timestamp\": \"2018-12-29T12:36:41\", \"score\": null, \"anomaly\": 2.053129544331115}, {\"id\": \"U1089294357\", \"category\": \"Anxiety\", \"timestamp\": \"2018-12-26T01:48:29\", \"score\": 1.0, \"anomaly\": 0.0}, {\"id\": \"U1089294357\", \"category\": \"Anxiety\", \"timestamp\": \"2018-12-22T03:30:37\", \"score\": 1.0, \"anomaly\": 0.0}, {\"id\": \"U1089294357\", \"category\": \"Anxiety\", \"timestamp\": \"2018-12-19T00:53:01\", \"score\": 1.0, \"anomaly\": 0.0}, {\"id\": \"U1089294357\", \"category\": \"Anxiety\", \"timestamp\": \"2018-12-15T00:43:29\", \"score\": 1.0, \"anomaly\": 0.0}, {\"id\": \"U1089294357\", \"category\": \"Anxiety\", \"timestamp\": \"2018-12-07T02:55:28\", \"score\": 1.0, \"anomaly\": 1.6558595715609548}, {\"id\": \"U1089294357\", \"category\": \"Anxiety\", \"timestamp\": \"2018-12-04T22:38:00\", \"score\": null, \"anomaly\": 1.6558595715609548}, {\"id\": \"U1089294357\", \"category\": \"Anxiety\", \"timestamp\": \"2018-11-30T05:16:33\", \"score\": 1.0, \"anomaly\": 0.0}, {\"id\": \"U1089294357\", \"category\": \"Anxiety\", \"timestamp\": \"2018-11-28T22:10:29\", \"score\": 1.0, \"anomaly\": 0.0}, {\"id\": \"U1089294357\", \"category\": \"Anxiety\", \"timestamp\": \"2018-11-22T22:04:52\", \"score\": 1.0, \"anomaly\": 2.059761547448619}, {\"id\": \"U1089294357\", \"category\": \"Anxiety\", \"timestamp\": \"2018-11-20T22:53:11\", \"score\": null, \"anomaly\": 2.059761547448619}, {\"id\": \"U1089294357\", \"category\": \"Anxiety\", \"timestamp\": \"2018-11-16T00:41:01\", \"score\": null, \"anomaly\": 2.059761547448619}, {\"id\": \"U1089294357\", \"category\": \"Anxiety\", \"timestamp\": \"2018-11-08T13:19:50\", \"score\": 1.0, \"anomaly\": 0.0}, {\"id\": \"U1089294357\", \"category\": \"Anxiety\", \"timestamp\": \"2018-10-31T01:21:27\", \"score\": 1.0, \"anomaly\": 0.0}, {\"id\": \"U1089294357\", \"category\": \"Anxiety\", \"timestamp\": \"2018-10-30T17:14:36\", \"score\": 1.0, \"anomaly\": 0.0}, {\"id\": \"U1089294357\", \"category\": \"Anxiety\", \"timestamp\": \"2018-10-24T17:58:36\", \"score\": 1.0, \"anomaly\": 0.0}, {\"id\": \"U1089294357\", \"category\": \"Anxiety\", \"timestamp\": \"2018-10-05T01:12:16\", \"score\": 1.0, \"anomaly\": 0.0}, {\"id\": \"U1089294357\", \"category\": \"Anxiety\", \"timestamp\": \"2018-09-28T23:48:03\", \"score\": 1.0, \"anomaly\": 0.0}, {\"id\": \"U1089294357\", \"category\": \"Anxiety\", \"timestamp\": \"2018-09-15T22:27:03\", \"score\": 1.0, \"anomaly\": 0.0}, {\"id\": \"U1089294357\", \"category\": \"Anxiety\", \"timestamp\": \"2018-09-14T11:43:45\", \"score\": 1.3333333333333333, \"anomaly\": 0.0}, {\"id\": \"U1089294357\", \"category\": \"Anxiety\", \"timestamp\": \"2018-09-11T03:45:22\", \"score\": 1.0, \"anomaly\": 0.0}, {\"id\": \"U1089294357\", \"category\": \"Anxiety\", \"timestamp\": \"2018-09-04T22:14:25\", \"score\": 1.0, \"anomaly\": 0.0}, {\"id\": \"U1089294357\", \"category\": \"Anxiety\", \"timestamp\": \"2018-08-31T04:14:57\", \"score\": 1.5, \"anomaly\": 2.099341022856577}, {\"id\": \"U1089294357\", \"category\": \"Anxiety\", \"timestamp\": \"2018-08-28T22:00:46\", \"score\": 1.0, \"anomaly\": 0.0}, {\"id\": \"U1089294357\", \"category\": \"Anxiety\", \"timestamp\": \"2018-08-28T21:59:17\", \"score\": 1.0, \"anomaly\": 0.0}, {\"id\": \"U1089294357\", \"category\": \"Psychosis and Social\", \"timestamp\": \"2018-12-29T12:35:59\", \"score\": 2.0, \"anomaly\": 0.0}, {\"id\": \"U1089294357\", \"category\": \"Psychosis and Social\", \"timestamp\": \"2018-12-25T17:31:16\", \"score\": 2.0, \"anomaly\": 0.0}, {\"id\": \"U1089294357\", \"category\": \"Psychosis and Social\", \"timestamp\": \"2018-12-22T03:27:52\", \"score\": 3.0, \"anomaly\": 0.0}, {\"id\": \"U1089294357\", \"category\": \"Psychosis and Social\", \"timestamp\": \"2018-12-19T00:53:47\", \"score\": 1.0, \"anomaly\": 0.0}, {\"id\": \"U1089294357\", \"category\": \"Psychosis and Social\", \"timestamp\": \"2018-12-15T00:45:00\", \"score\": 1.5, \"anomaly\": 0.0}, {\"id\": \"U1089294357\", \"category\": \"Psychosis and Social\", \"timestamp\": \"2018-12-11T15:24:03\", \"score\": 2.0, \"anomaly\": 0.0}, {\"id\": \"U1089294357\", \"category\": \"Psychosis and Social\", \"timestamp\": \"2018-12-06T19:14:48\", \"score\": 3.0, \"anomaly\": 0.0}, {\"id\": \"U1089294357\", \"category\": \"Psychosis and Social\", \"timestamp\": \"2018-12-04T22:36:44\", \"score\": 2.0, \"anomaly\": 0.0}, {\"id\": \"U1089294357\", \"category\": \"Psychosis and Social\", \"timestamp\": \"2018-11-30T05:15:33\", \"score\": 2.0, \"anomaly\": 0.0}, {\"id\": \"U1089294357\", \"category\": \"Psychosis and Social\", \"timestamp\": \"2018-11-28T22:09:51\", \"score\": 3.0, \"anomaly\": 0.0}, {\"id\": \"U1089294357\", \"category\": \"Psychosis and Social\", \"timestamp\": \"2018-11-22T15:05:16\", \"score\": 3.0, \"anomaly\": 0.0}, {\"id\": \"U1089294357\", \"category\": \"Psychosis and Social\", \"timestamp\": \"2018-11-20T15:42:31\", \"score\": 3.0, \"anomaly\": 0.0}, {\"id\": \"U1089294357\", \"category\": \"Psychosis and Social\", \"timestamp\": \"2018-11-16T00:42:03\", \"score\": 3.0, \"anomaly\": 0.0}, {\"id\": \"U1089294357\", \"category\": \"Psychosis and Social\", \"timestamp\": \"2018-11-08T13:18:26\", \"score\": 3.0, \"anomaly\": 1.808374813815675}, {\"id\": \"U1089294357\", \"category\": \"Psychosis and Social\", \"timestamp\": \"2018-10-30T17:17:31\", \"score\": 1.0, \"anomaly\": 0.0}, {\"id\": \"U1089294357\", \"category\": \"Psychosis and Social\", \"timestamp\": \"2018-10-24T17:57:57\", \"score\": 1.0, \"anomaly\": 0.0}, {\"id\": \"U1089294357\", \"category\": \"Psychosis and Social\", \"timestamp\": \"2018-10-05T01:13:02\", \"score\": 1.5, \"anomaly\": 0.0}, {\"id\": \"U1089294357\", \"category\": \"Psychosis and Social\", \"timestamp\": \"2018-09-28T23:08:13\", \"score\": 2.0, \"anomaly\": 0.0}, {\"id\": \"U1089294357\", \"category\": \"Psychosis and Social\", \"timestamp\": \"2018-09-18T18:00:07\", \"score\": 1.5, \"anomaly\": 0.0}, {\"id\": \"U1089294357\", \"category\": \"Psychosis and Social\", \"timestamp\": \"2018-09-18T17:58:57\", \"score\": 1.6666666666666667, \"anomaly\": 0.0}, {\"id\": \"U1089294357\", \"category\": \"Psychosis and Social\", \"timestamp\": \"2018-09-15T22:23:55\", \"score\": 2.0, \"anomaly\": 0.0}, {\"id\": \"U1089294357\", \"category\": \"Psychosis and Social\", \"timestamp\": \"2018-09-13T18:17:11\", \"score\": 1.0, \"anomaly\": 0.0}, {\"id\": \"U1089294357\", \"category\": \"Psychosis and Social\", \"timestamp\": \"2018-09-11T03:39:45\", \"score\": 1.6666666666666667, \"anomaly\": 0.0}, {\"id\": \"U1089294357\", \"category\": \"Psychosis and Social\", \"timestamp\": \"2018-09-06T16:25:29\", \"score\": 1.5, \"anomaly\": 0.0}, {\"id\": \"U1089294357\", \"category\": \"Psychosis and Social\", \"timestamp\": \"2018-08-30T19:14:37\", \"score\": 1.0, \"anomaly\": 0.0}, {\"id\": \"U1089294357\", \"category\": \"Psychosis and Social\", \"timestamp\": \"2018-08-28T18:18:02\", \"score\": 1.0, \"anomaly\": 0.0}, {\"id\": \"U1089294357\", \"category\": \"Psychosis and Social\", \"timestamp\": \"2018-08-28T18:14:02\", \"score\": 1.25, \"anomaly\": 0.0}, {\"id\": \"U1089294357\", \"category\": \"Psychosis and Social\", \"timestamp\": \"2018-08-28T18:09:39\", \"score\": 2.0, \"anomaly\": 0.0}, {\"id\": \"U1089294357\", \"category\": \"Psychosis and Social\", \"timestamp\": \"2018-08-28T17:41:42\", \"score\": 1.0, \"anomaly\": 0.0}]}}, {\"mode\": \"vega-lite\"});\n",
       "</script>"
      ],
      "text/plain": [
       "alt.FacetChart(...)"
      ]
     },
     "execution_count": 7,
     "metadata": {},
     "output_type": "execute_result"
    }
   ],
   "source": [
    "alt.Chart(df).mark_point(filled=True).properties(width=500, height=50).encode(\n",
    "    \n",
    "    # The timestamp column was already converted by Cortex into a human-readable Date.\n",
    "    x=alt.X('timestamp', title=\"Date\"),\n",
    "    \n",
    "    # We know the score is clamped between [1 <= score <= 3] for this patient.\n",
    "    y=alt.Y('score', title=\"Score\", scale=alt.Scale(domain=[1, 3])),\n",
    "    \n",
    "    # Color anomalies non-linearly by severity (redder is worse).\n",
    "    color=alt.Color('anomaly', title='Severity', scale=alt.Scale(type='sqrt', range=['#29629E', '#CA2C21'])),\n",
    "    \n",
    "    # Resize anomalies non-linearly by severity (larger is worse).\n",
    "    size=alt.Size('anomaly', title='Severity', scale=alt.Scale(type='sqrt', range=[25, 500]))\n",
    ").facet(\n",
    "    \n",
    "    # By 'faceting' the plot by the category column, we can split each survey category out into its own subplot.\n",
    "    row='category'\n",
    ")"
   ]
  }
 ],
 "metadata": {
  "kernelspec": {
   "display_name": "Python 3",
   "language": "python",
   "name": "python3"
  },
  "language_info": {
   "codemirror_mode": {
    "name": "ipython",
    "version": 3
   },
   "file_extension": ".py",
   "mimetype": "text/x-python",
   "name": "python",
   "nbconvert_exporter": "python",
   "pygments_lexer": "ipython3",
   "version": "3.8.8"
  }
 },
 "nbformat": 4,
 "nbformat_minor": 5
}
